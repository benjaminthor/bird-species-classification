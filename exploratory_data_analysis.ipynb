{
 "cells": [
  {
   "cell_type": "code",
   "execution_count": 1,
   "metadata": {},
   "outputs": [],
   "source": [
    "import pandas as pd  \n",
    "import numpy as np \n",
    "import glob\n",
    "import matplotlib.pyplot as plt\n",
    "import cv2"
   ]
  },
  {
   "cell_type": "code",
   "execution_count": 7,
   "metadata": {},
   "outputs": [
    {
     "name": "stdout",
     "output_type": "stream",
     "text": [
      "Train set size: 70646\n",
      "Test set size: 2250\n",
      "Validation set size: 2250\n",
      "Total number of classes: 450\n"
     ]
    }
   ],
   "source": [
    "archivePath = 'C:/Users/Diamondman/Downloads/archive'\n",
    "test_images = glob.glob(archivePath+'/images to test/*')\n",
    "train = glob.glob(archivePath+'/train/*/*')\n",
    "test = glob.glob(archivePath+'/test/*/*')\n",
    "valid  = glob.glob(archivePath+'/valid/*/*')\n",
    "classes = glob.glob(archivePath+'/train/*')\n",
    "print(f'Train set size: {len(train)}\\nTest set size: {len(test)}\\nValidation set size: {len(valid)}\\nTotal number of classes: {len(classes)}' )"
   ]
  },
  {
   "cell_type": "code",
   "execution_count": 8,
   "metadata": {},
   "outputs": [
    {
     "data": {
      "text/html": [
       "<div>\n",
       "<style scoped>\n",
       "    .dataframe tbody tr th:only-of-type {\n",
       "        vertical-align: middle;\n",
       "    }\n",
       "\n",
       "    .dataframe tbody tr th {\n",
       "        vertical-align: top;\n",
       "    }\n",
       "\n",
       "    .dataframe thead th {\n",
       "        text-align: right;\n",
       "    }\n",
       "</style>\n",
       "<table border=\"1\" class=\"dataframe\">\n",
       "  <thead>\n",
       "    <tr style=\"text-align: right;\">\n",
       "      <th></th>\n",
       "      <th>class_name</th>\n",
       "      <th>count</th>\n",
       "    </tr>\n",
       "  </thead>\n",
       "  <tbody>\n",
       "    <tr>\n",
       "      <th>0</th>\n",
       "      <td>ABBOTTS BABBLER</td>\n",
       "      <td>166</td>\n",
       "    </tr>\n",
       "    <tr>\n",
       "      <th>1</th>\n",
       "      <td>ABBOTTS BOOBY</td>\n",
       "      <td>180</td>\n",
       "    </tr>\n",
       "    <tr>\n",
       "      <th>2</th>\n",
       "      <td>ABYSSINIAN GROUND HORNBILL</td>\n",
       "      <td>179</td>\n",
       "    </tr>\n",
       "    <tr>\n",
       "      <th>3</th>\n",
       "      <td>AFRICAN CROWNED CRANE</td>\n",
       "      <td>137</td>\n",
       "    </tr>\n",
       "    <tr>\n",
       "      <th>4</th>\n",
       "      <td>AFRICAN EMERALD CUCKOO</td>\n",
       "      <td>154</td>\n",
       "    </tr>\n",
       "  </tbody>\n",
       "</table>\n",
       "</div>"
      ],
      "text/plain": [
       "                   class_name  count\n",
       "0             ABBOTTS BABBLER    166\n",
       "1               ABBOTTS BOOBY    180\n",
       "2  ABYSSINIAN GROUND HORNBILL    179\n",
       "3       AFRICAN CROWNED CRANE    137\n",
       "4      AFRICAN EMERALD CUCKOO    154"
      ]
     },
     "metadata": {},
     "output_type": "display_data"
    },
    {
     "data": {
      "text/html": [
       "<div>\n",
       "<style scoped>\n",
       "    .dataframe tbody tr th:only-of-type {\n",
       "        vertical-align: middle;\n",
       "    }\n",
       "\n",
       "    .dataframe tbody tr th {\n",
       "        vertical-align: top;\n",
       "    }\n",
       "\n",
       "    .dataframe thead th {\n",
       "        text-align: right;\n",
       "    }\n",
       "</style>\n",
       "<table border=\"1\" class=\"dataframe\">\n",
       "  <thead>\n",
       "    <tr style=\"text-align: right;\">\n",
       "      <th></th>\n",
       "      <th>count</th>\n",
       "    </tr>\n",
       "  </thead>\n",
       "  <tbody>\n",
       "    <tr>\n",
       "      <th>count</th>\n",
       "      <td>450.000000</td>\n",
       "    </tr>\n",
       "    <tr>\n",
       "      <th>mean</th>\n",
       "      <td>156.991111</td>\n",
       "    </tr>\n",
       "    <tr>\n",
       "      <th>std</th>\n",
       "      <td>17.428567</td>\n",
       "    </tr>\n",
       "    <tr>\n",
       "      <th>min</th>\n",
       "      <td>130.000000</td>\n",
       "    </tr>\n",
       "    <tr>\n",
       "      <th>25%</th>\n",
       "      <td>144.000000</td>\n",
       "    </tr>\n",
       "    <tr>\n",
       "      <th>50%</th>\n",
       "      <td>155.000000</td>\n",
       "    </tr>\n",
       "    <tr>\n",
       "      <th>75%</th>\n",
       "      <td>163.000000</td>\n",
       "    </tr>\n",
       "    <tr>\n",
       "      <th>max</th>\n",
       "      <td>248.000000</td>\n",
       "    </tr>\n",
       "  </tbody>\n",
       "</table>\n",
       "</div>"
      ],
      "text/plain": [
       "            count\n",
       "count  450.000000\n",
       "mean   156.991111\n",
       "std     17.428567\n",
       "min    130.000000\n",
       "25%    144.000000\n",
       "50%    155.000000\n",
       "75%    163.000000\n",
       "max    248.000000"
      ]
     },
     "metadata": {},
     "output_type": "display_data"
    }
   ],
   "source": [
    "classes_dict ={}\n",
    "for i in range(len(classes)):\n",
    "    classes_dict[classes[i].split('\\\\')[-1]] = 0\n",
    "for i in range(len(train)):\n",
    "    classes_dict[train[i].split('\\\\')[-2]] +=1 \n",
    "#Creating a dataframe of the classes and their corresponding img count\n",
    "df = pd.DataFrame(classes_dict.items(), columns=['class_name', 'count']) \n",
    "display(df.head())\n",
    "display(df.describe())"
   ]
  },
  {
   "cell_type": "code",
   "execution_count": 9,
   "metadata": {},
   "outputs": [
    {
     "name": "stdout",
     "output_type": "stream",
     "text": [
      "High outliers:  ['HOUSE FINCH' 'D-ARNAUDS BARBET' 'OVENBIRD' 'SWINHOES PHEASANT'\n",
      " 'WOOD DUCK' 'CASPIAN TERN' 'OYSTER CATCHER' 'DARK EYED JUNCO'\n",
      " 'RED TAILED HAWK' 'VIOLET GREEN SWALLOW' 'SORA' 'CRIMSON SUNBIRD'\n",
      " 'RED BEARDED BEE EATER' 'CAMPO FLICKER' 'MARABOU STORK' 'NORTHERN PARULA'\n",
      " 'RAZORBILL' 'BANDED BROADBILL' 'VARIED THRUSH' 'SPOONBILL']\n",
      "Low outliers:  []\n"
     ]
    }
   ],
   "source": [
    "#Sorting the dataframe by the count of the images\n",
    "df = df.sort_values(by = 'count', ascending = False)\n",
    "df.reset_index(drop = True, inplace = True)  \n",
    "#basic statistics of the classes  \n",
    "stats = df.describe()\n",
    "#Defining outliers as classes that surpass the 75th percentile +- 1.5*IQR\n",
    "high_ourliers = df[\"class_name\"][df[\"count\"] > stats[\"count\"][\"75%\"] + 1.5 * (stats[\"count\"][\"75%\"] - stats[\"count\"][\"25%\"])].values\n",
    "low_ourliers = df[\"class_name\"][df[\"count\"] < stats[\"count\"][\"25%\"] - 1.5 * (stats[\"count\"][\"75%\"] - stats[\"count\"][\"25%\"])].values\n",
    "#Print the results\n",
    "print(\"High outliers: \", high_ourliers)\n",
    "print(\"Low outliers: \", low_ourliers)"
   ]
  },
  {
   "cell_type": "code",
   "execution_count": null,
   "metadata": {},
   "outputs": [],
   "source": [
    "# dimensions, channels, how many classes? \n",
    "# Should we preprocess the data?\n",
    "# Or is it ready for use?\n",
    "# Can we use augmentation and what kind of augmentation would be valid?)"
   ]
  },
  {
   "cell_type": "code",
   "execution_count": 23,
   "metadata": {},
   "outputs": [],
   "source": [
    "shape_dict ={'height':[], 'width':[], 'chanles':[], 'class_name':[], 'image_name':[]}\n",
    "for path in train:\n",
    "    img = cv2.imread(path)\n",
    "    shp =img.shape\n",
    "    shape_dict['height'].append(shp[0])\n",
    "    shape_dict['width'].append(shp[1])\n",
    "    shape_dict['chanles'].append(shp[2])\n",
    "    shape_dict['class_name'].append(path.split('\\\\')[-2])\n",
    "    shape_dict['image_name'].append(path.split('\\\\')[-1])\n",
    "    shape_df =pd.DataFrame(shape_dict)"
   ]
  },
  {
   "cell_type": "code",
   "execution_count": 27,
   "metadata": {},
   "outputs": [
    {
     "data": {
      "text/html": [
       "<div>\n",
       "<style scoped>\n",
       "    .dataframe tbody tr th:only-of-type {\n",
       "        vertical-align: middle;\n",
       "    }\n",
       "\n",
       "    .dataframe tbody tr th {\n",
       "        vertical-align: top;\n",
       "    }\n",
       "\n",
       "    .dataframe thead th {\n",
       "        text-align: right;\n",
       "    }\n",
       "</style>\n",
       "<table border=\"1\" class=\"dataframe\">\n",
       "  <thead>\n",
       "    <tr style=\"text-align: right;\">\n",
       "      <th></th>\n",
       "      <th>height</th>\n",
       "      <th>width</th>\n",
       "      <th>chanles</th>\n",
       "    </tr>\n",
       "  </thead>\n",
       "  <tbody>\n",
       "    <tr>\n",
       "      <th>count</th>\n",
       "      <td>70646.000000</td>\n",
       "      <td>70646.000000</td>\n",
       "      <td>70646.0</td>\n",
       "    </tr>\n",
       "    <tr>\n",
       "      <th>mean</th>\n",
       "      <td>223.999604</td>\n",
       "      <td>223.999236</td>\n",
       "      <td>3.0</td>\n",
       "    </tr>\n",
       "    <tr>\n",
       "      <th>std</th>\n",
       "      <td>0.105345</td>\n",
       "      <td>0.203166</td>\n",
       "      <td>0.0</td>\n",
       "    </tr>\n",
       "    <tr>\n",
       "      <th>min</th>\n",
       "      <td>196.000000</td>\n",
       "      <td>170.000000</td>\n",
       "      <td>3.0</td>\n",
       "    </tr>\n",
       "    <tr>\n",
       "      <th>25%</th>\n",
       "      <td>224.000000</td>\n",
       "      <td>224.000000</td>\n",
       "      <td>3.0</td>\n",
       "    </tr>\n",
       "    <tr>\n",
       "      <th>50%</th>\n",
       "      <td>224.000000</td>\n",
       "      <td>224.000000</td>\n",
       "      <td>3.0</td>\n",
       "    </tr>\n",
       "    <tr>\n",
       "      <th>75%</th>\n",
       "      <td>224.000000</td>\n",
       "      <td>224.000000</td>\n",
       "      <td>3.0</td>\n",
       "    </tr>\n",
       "    <tr>\n",
       "      <th>max</th>\n",
       "      <td>224.000000</td>\n",
       "      <td>224.000000</td>\n",
       "      <td>3.0</td>\n",
       "    </tr>\n",
       "  </tbody>\n",
       "</table>\n",
       "</div>"
      ],
      "text/plain": [
       "             height         width  chanles\n",
       "count  70646.000000  70646.000000  70646.0\n",
       "mean     223.999604    223.999236      3.0\n",
       "std        0.105345      0.203166      0.0\n",
       "min      196.000000    170.000000      3.0\n",
       "25%      224.000000    224.000000      3.0\n",
       "50%      224.000000    224.000000      3.0\n",
       "75%      224.000000    224.000000      3.0\n",
       "max      224.000000    224.000000      3.0"
      ]
     },
     "execution_count": 27,
     "metadata": {},
     "output_type": "execute_result"
    }
   ],
   "source": [
    "shape_df.describe()"
   ]
  }
 ],
 "metadata": {
  "kernelspec": {
   "display_name": "Python 3.7.9 ('birdV': venv)",
   "language": "python",
   "name": "python3"
  },
  "language_info": {
   "codemirror_mode": {
    "name": "ipython",
    "version": 3
   },
   "file_extension": ".py",
   "mimetype": "text/x-python",
   "name": "python",
   "nbconvert_exporter": "python",
   "pygments_lexer": "ipython3",
   "version": "3.7.9"
  },
  "orig_nbformat": 4,
  "vscode": {
   "interpreter": {
    "hash": "4f896547f6bb293afa958f54f7acd556c7a75cda2af409d4465afbf7831edee4"
   }
  }
 },
 "nbformat": 4,
 "nbformat_minor": 2
}
